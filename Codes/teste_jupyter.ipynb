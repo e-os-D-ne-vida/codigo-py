{
 "cells": [
  {
   "cell_type": "code",
   "execution_count": 255,
   "metadata": {},
   "outputs": [
    {
     "name": "stdout",
     "output_type": "stream",
     "text": [
      "testando jupxter\n"
     ]
    }
   ],
   "source": [
    "print(\"testando jupxter\")"
   ]
  },
  {
   "cell_type": "code",
   "execution_count": 256,
   "metadata": {},
   "outputs": [
    {
     "data": {
      "text/html": [
       "<div>\n",
       "<style scoped>\n",
       "    .dataframe tbody tr th:only-of-type {\n",
       "        vertical-align: middle;\n",
       "    }\n",
       "\n",
       "    .dataframe tbody tr th {\n",
       "        vertical-align: top;\n",
       "    }\n",
       "\n",
       "    .dataframe thead th {\n",
       "        text-align: right;\n",
       "    }\n",
       "</style>\n",
       "<table border=\"1\" class=\"dataframe\">\n",
       "  <thead>\n",
       "    <tr style=\"text-align: right;\">\n",
       "      <th></th>\n",
       "      <th>Nome</th>\n",
       "      <th>Idade</th>\n",
       "    </tr>\n",
       "  </thead>\n",
       "  <tbody>\n",
       "    <tr>\n",
       "      <th>0</th>\n",
       "      <td>João</td>\n",
       "      <td>21</td>\n",
       "    </tr>\n",
       "    <tr>\n",
       "      <th>1</th>\n",
       "      <td>Maria</td>\n",
       "      <td>30</td>\n",
       "    </tr>\n",
       "    <tr>\n",
       "      <th>2</th>\n",
       "      <td>José</td>\n",
       "      <td>25</td>\n",
       "    </tr>\n",
       "  </tbody>\n",
       "</table>\n",
       "</div>"
      ],
      "text/plain": [
       "    Nome  Idade\n",
       "0   João     21\n",
       "1  Maria     30\n",
       "2   José     25"
      ]
     },
     "metadata": {},
     "output_type": "display_data"
    },
    {
     "name": "stdout",
     "output_type": "stream",
     "text": [
      "    Nome  Idade\n",
      "0   João     21\n",
      "1  Maria     30\n",
      "2   José     25\n"
     ]
    }
   ],
   "source": [
    "import pandas as pd\n",
    "tabela = pd.DataFrame({\"Nome\":[\"João\", \"Maria\", \"José\"], \"Idade\":[21, 30, 25]})\n",
    "display(tabela)\n",
    "print(tabela)\n"
   ]
  },
  {
   "cell_type": "code",
   "execution_count": 257,
   "metadata": {},
   "outputs": [
    {
     "data": {
      "text/html": [
       "<div>\n",
       "<style scoped>\n",
       "    .dataframe tbody tr th:only-of-type {\n",
       "        vertical-align: middle;\n",
       "    }\n",
       "\n",
       "    .dataframe tbody tr th {\n",
       "        vertical-align: top;\n",
       "    }\n",
       "\n",
       "    .dataframe thead th {\n",
       "        text-align: right;\n",
       "    }\n",
       "</style>\n",
       "<table border=\"1\" class=\"dataframe\">\n",
       "  <thead>\n",
       "    <tr style=\"text-align: right;\">\n",
       "      <th></th>\n",
       "      <th>Nome</th>\n",
       "      <th>Idade</th>\n",
       "      <th>Sexo</th>\n",
       "    </tr>\n",
       "  </thead>\n",
       "  <tbody>\n",
       "    <tr>\n",
       "      <th>0</th>\n",
       "      <td>pedro</td>\n",
       "      <td>25</td>\n",
       "      <td>M</td>\n",
       "    </tr>\n",
       "  </tbody>\n",
       "</table>\n",
       "</div>"
      ],
      "text/plain": [
       "    Nome  Idade Sexo\n",
       "0  pedro     25    M"
      ]
     },
     "metadata": {},
     "output_type": "display_data"
    }
   ],
   "source": [
    "import pandas as pd\n",
    "\n",
    "colunas = [\"Nome\", \"Idade\", \"Sexo\"]\n",
    "dados = [[\"pedro\", 25, \"M\"]]\n",
    "df = pd.DataFrame(dados, columns=colunas)\n",
    "display(df)"
   ]
  },
  {
   "cell_type": "markdown",
   "metadata": {},
   "source": []
  },
  {
   "cell_type": "code",
   "execution_count": 51,
   "metadata": {},
   "outputs": [
    {
     "name": "stdout",
     "output_type": "stream",
     "text": [
      "Nova tabela com alterações:\n"
     ]
    },
    {
     "data": {
      "text/html": [
       "<div>\n",
       "<style scoped>\n",
       "    .dataframe tbody tr th:only-of-type {\n",
       "        vertical-align: middle;\n",
       "    }\n",
       "\n",
       "    .dataframe tbody tr th {\n",
       "        vertical-align: top;\n",
       "    }\n",
       "\n",
       "    .dataframe thead th {\n",
       "        text-align: right;\n",
       "    }\n",
       "</style>\n",
       "<table border=\"1\" class=\"dataframe\">\n",
       "  <thead>\n",
       "    <tr style=\"text-align: right;\">\n",
       "      <th></th>\n",
       "      <th>Nome</th>\n",
       "      <th>Idade</th>\n",
       "      <th>Sexo</th>\n",
       "      <th>Soma das idades</th>\n",
       "      <th>linha</th>\n",
       "    </tr>\n",
       "  </thead>\n",
       "  <tbody>\n",
       "    <tr>\n",
       "      <th>0</th>\n",
       "      <td>mariana</td>\n",
       "      <td>87</td>\n",
       "      <td>F</td>\n",
       "      <td>103</td>\n",
       "      <td>5</td>\n",
       "    </tr>\n",
       "    <tr>\n",
       "      <th>1</th>\n",
       "      <td>Sd</td>\n",
       "      <td>127</td>\n",
       "      <td>M</td>\n",
       "      <td>71</td>\n",
       "      <td>4</td>\n",
       "    </tr>\n",
       "    <tr>\n",
       "      <th>2</th>\n",
       "      <td>joao</td>\n",
       "      <td>177</td>\n",
       "      <td>M</td>\n",
       "      <td>52</td>\n",
       "      <td>3</td>\n",
       "    </tr>\n",
       "    <tr>\n",
       "      <th>3</th>\n",
       "      <td>gb</td>\n",
       "      <td>225</td>\n",
       "      <td>M</td>\n",
       "      <td>34</td>\n",
       "      <td>2</td>\n",
       "    </tr>\n",
       "    <tr>\n",
       "      <th>4</th>\n",
       "      <td>Ana</td>\n",
       "      <td>272</td>\n",
       "      <td>F</td>\n",
       "      <td>17</td>\n",
       "      <td>1</td>\n",
       "    </tr>\n",
       "  </tbody>\n",
       "</table>\n",
       "</div>"
      ],
      "text/plain": [
       "      Nome  Idade Sexo  Soma das idades  linha\n",
       "0  mariana     87    F              103      5\n",
       "1       Sd    127    M               71      4\n",
       "2     joao    177    M               52      3\n",
       "3       gb    225    M               34      2\n",
       "4      Ana    272    F               17      1"
      ]
     },
     "metadata": {},
     "output_type": "display_data"
    },
    {
     "name": "stdout",
     "output_type": "stream",
     "text": [
      "Tabela original:\n"
     ]
    },
    {
     "data": {
      "text/html": [
       "<div>\n",
       "<style scoped>\n",
       "    .dataframe tbody tr th:only-of-type {\n",
       "        vertical-align: middle;\n",
       "    }\n",
       "\n",
       "    .dataframe tbody tr th {\n",
       "        vertical-align: top;\n",
       "    }\n",
       "\n",
       "    .dataframe thead th {\n",
       "        text-align: right;\n",
       "    }\n",
       "</style>\n",
       "<table border=\"1\" class=\"dataframe\">\n",
       "  <thead>\n",
       "    <tr style=\"text-align: right;\">\n",
       "      <th></th>\n",
       "      <th>Nome</th>\n",
       "      <th>Idade</th>\n",
       "      <th>Sexo</th>\n",
       "      <th>Soma das idades</th>\n",
       "      <th>linha</th>\n",
       "    </tr>\n",
       "  </thead>\n",
       "  <tbody>\n",
       "    <tr>\n",
       "      <th>0</th>\n",
       "      <td>Ana</td>\n",
       "      <td>17</td>\n",
       "      <td>F</td>\n",
       "      <td>0</td>\n",
       "      <td>0</td>\n",
       "    </tr>\n",
       "    <tr>\n",
       "      <th>1</th>\n",
       "      <td>Sd</td>\n",
       "      <td>19</td>\n",
       "      <td>M</td>\n",
       "      <td>0</td>\n",
       "      <td>0</td>\n",
       "    </tr>\n",
       "    <tr>\n",
       "      <th>2</th>\n",
       "      <td>mariana</td>\n",
       "      <td>32</td>\n",
       "      <td>F</td>\n",
       "      <td>0</td>\n",
       "      <td>0</td>\n",
       "    </tr>\n",
       "    <tr>\n",
       "      <th>3</th>\n",
       "      <td>joao</td>\n",
       "      <td>18</td>\n",
       "      <td>M</td>\n",
       "      <td>0</td>\n",
       "      <td>0</td>\n",
       "    </tr>\n",
       "    <tr>\n",
       "      <th>4</th>\n",
       "      <td>gb</td>\n",
       "      <td>17</td>\n",
       "      <td>M</td>\n",
       "      <td>0</td>\n",
       "      <td>0</td>\n",
       "    </tr>\n",
       "  </tbody>\n",
       "</table>\n",
       "</div>"
      ],
      "text/plain": [
       "      Nome  Idade Sexo  Soma das idades  linha\n",
       "0      Ana     17    F                0      0\n",
       "1       Sd     19    M                0      0\n",
       "2  mariana     32    F                0      0\n",
       "3     joao     18    M                0      0\n",
       "4       gb     17    M                0      0"
      ]
     },
     "metadata": {},
     "output_type": "display_data"
    }
   ],
   "source": [
    "import pandas as pd\n",
    "\n",
    "# Definindo as colunas e dados iniciais\n",
    "colunas = [\"Nome\", \"Idade\", \"Sexo\"]\n",
    "dados = [[\"Ana\", 17, \"F\"], [\"Sd\", 19, \"M\"], [\"mariana\", 32, \"F\"], [\"joao\", 18, \"M\"], [\"gb\", 17, \"M\"]]\n",
    "\n",
    "# Criando o DataFrame original\n",
    "df = pd.DataFrame(dados, columns=colunas)\n",
    "\n",
    "# Inicializando a soma das idades e as colunas auxiliares\n",
    "df[\"Soma das idades\"] = 0\n",
    "df[\"linha\"] = 0\n",
    "\n",
    "# Inicializando ou recuperando a contagem de execuções\n",
    "if 'exec_count' not in globals():\n",
    "    exec_count = 0  # Se a variável não existir, começa com 0\n",
    "\n",
    "# Ordenando o DataFrame pelo valor das idades\n",
    "df_ordem = df.sort_values(by=[\"Idade\", \"Soma das idades\"], ascending=True).copy()\n",
    "\n",
    "# Resetando o índice da tabela ordenada\n",
    "df_ordem.reset_index(drop=True, inplace=True)\n",
    "\n",
    "# Calculando a soma cumulativa das idades\n",
    "df_ordem[\"Soma das idades\"] = df_ordem[\"Idade\"].cumsum()\n",
    "\n",
    "# Alterando as idades e atualizando a coluna 'linha'\n",
    "for i in range(len(df_ordem)):\n",
    "    # A fórmula agora diminui o incremento conforme o valor de i aumenta\n",
    "    decremento = (len(df_ordem) - i)  # O decremento será máximo na primeira linha e diminui conforme i aumenta\n",
    "    df_ordem.loc[i, \"Idade\"] += 1 * ((i + 1) + exec_count) * decremento\n",
    "    df_ordem.loc[i, \"linha\"] = i + 1  # Atualiza a linha\n",
    "\n",
    "# Reordenando novamente após a alteração das idades\n",
    "df_ordem = df_ordem.sort_values(by=[\"Idade\", \"Soma das idades\"], ascending=True).reset_index(drop=True)\n",
    "\n",
    "# Exibindo a nova tabela com alterações\n",
    "print(\"Nova tabela com alterações:\")\n",
    "display(df_ordem)\n",
    "\n",
    "# O DataFrame original permanece inalterado, como esperado\n",
    "print(\"Tabela original:\")\n",
    "display(df)  # Exibe o DataFrame original, sem modificações\n",
    "\n",
    "# Atualiza a contagem de execuções para a próxima vez\n",
    "exec_count += 1\n"
   ]
  }
 ],
 "metadata": {
  "kernelspec": {
   "display_name": "Python 3",
   "language": "python",
   "name": "python3"
  },
  "language_info": {
   "codemirror_mode": {
    "name": "ipython",
    "version": 3
   },
   "file_extension": ".py",
   "mimetype": "text/x-python",
   "name": "python",
   "nbconvert_exporter": "python",
   "pygments_lexer": "ipython3",
   "version": "3.13.2"
  }
 },
 "nbformat": 4,
 "nbformat_minor": 2
}
